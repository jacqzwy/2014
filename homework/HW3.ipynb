{
 "cells": [
  {
   "cell_type": "markdown",
   "metadata": {},
   "source": [
    "# Homework 3: Prediction and Classification\n",
    "\n",
    "Due: Thursday, October 16, 2014 11:59 PM\n",
    "\n",
    "<a href=https://raw.githubusercontent.com/cs109/2014/master/homework/HW3.ipynb download=HW3.ipynb> Download this assignment</a>\n",
    "\n",
    "#### Submission Instructions\n",
    "To submit your homework, create a folder named lastname_firstinitial_hw# and place your IPython notebooks, data files, and any other files in this folder. Your IPython Notebooks should be completely executed with the results visible in the notebook. We should not have to run any code. Compress the folder (please use .zip compression) and submit to the CS109 dropbox in the appropriate folder. If we cannot access your work because these directions are not followed correctly, we will not grade your work.\n",
    "\n",
    "---\n"
   ]
  },
  {
   "cell_type": "markdown",
   "metadata": {},
   "source": [
    "# Introduction\n",
    "\n",
    "In this assignment you will be using regression and classification to explore different data sets.  \n",
    "\n",
    "**First**: You will use data from before 2002 in the [Sean Lahman's Baseball Database](http://seanlahman.com/baseball-archive/statistics) to create a metric for picking baseball players using linear regression. This is same database we used in Homework 1. This database contains the \"complete batting and pitching statistics from 1871 to 2013, plus fielding statistics, standings, team stats, managerial records, post-season data, and more\". [Documentation provided here](http://seanlahman.com/files/database/readme2012.txt).\n",
    "\n",
    "![\"Sabermetrics Science\"](http://saberseminar.com/wp-content/uploads/2012/01/saber-web.jpg)\n",
    "http://saberseminar.com/wp-content/uploads/2012/01/saber-web.jpg\n",
    "\n",
    "**Second**: You will use the famous [iris](http://en.wikipedia.org/wiki/Iris_flower_data_set) data set to perform a $k$-neareast neighbor classification using cross validation.  While it was introduced in 1936, it is still [one of the most popular](http://archive.ics.uci.edu/ml/) example data sets in the machine learning community. Wikipedia describes the data set as follows: \"The data set consists of 50 samples from each of three species of Iris (Iris setosa, Iris virginica and Iris versicolor). Four features were measured from each sample: the length and the width of the sepals and petals, in centimetres.\" Here is an illustration what the four features measure:\n",
    "\n",
    "![\"iris data features\"](http://sebastianraschka.com/Images/2014_python_lda/iris_petal_sepal.png)\n",
    "http://sebastianraschka.com/Images/2014_python_lda/iris_petal_sepal.png\n",
    "\n",
    "**Third**: You will investigate the influence of higher dimensional spaces on the classification using another standard data set in machine learning called the The [digits data set](http://scikit-learn.org/stable/modules/generated/sklearn.datasets.load_digits.html).  This data set is similar to the MNIST data set discussed in the lecture. The main difference is, that each digit is represented by an 8x8 pixel image patch, which is considerably smaller than the 28x28 pixels from MNIST. In addition, the gray values are restricted to 16 different values (4 bit), instead of 256 (8 bit) for MNIST. \n",
    "\n",
    "**Finally**: In preparation for Homework 4, we want you to read through the following articles related to predicting the 2014 Senate Midterm Elections. \n",
    "\n",
    "* [Nate Silver's Methodology at while at NYT](http://fivethirtyeight.blogs.nytimes.com/methodology/)\n",
    "* [How The FiveThirtyEight Senate Forecast Model Works](http://fivethirtyeight.com/features/how-the-fivethirtyeight-senate-forecast-model-works/)\n",
    "* [Pollster Ratings v4.0: Methodology](http://fivethirtyeight.com/features/pollster-ratings-v40-methodology/)\n",
    "* [Pollster Ratings v4.0: Results](http://fivethirtyeight.com/features/pollster-ratings-v40-results/)\n",
    "* [Nate Silver versus Sam Wang](http://www.washingtonpost.com/blogs/plum-line/wp/2014/09/17/nate-silver-versus-sam-wang/)\n",
    "* [More Nate Silver versus Sam Wang](http://www.dailykos.com/story/2014/09/09/1328288/-Get-Ready-To-Rumbllllle-Battle-Of-The-Nerds-Nate-Silver-VS-Sam-Wang)\n",
    "* [Nate Silver explains critisims of Sam Wang](http://politicalwire.com/archives/2014/10/02/nate_silver_rebuts_sam_wang.html)\n",
    "* [Background on the feud between Nate Silver and Sam Wang](http://talkingpointsmemo.com/dc/nate-silver-sam-wang-feud)\n",
    "* [Are there swing voters?]( http://www.stat.columbia.edu/~gelman/research/unpublished/swing_voters.pdf)\n",
    "\n",
    "\n",
    "\n",
    "---"
   ]
  },
  {
   "cell_type": "markdown",
   "metadata": {},
   "source": [
    "## Load Python modules"
   ]
  },
  {
   "cell_type": "code",
   "execution_count": 1,
   "metadata": {
    "collapsed": false
   },
   "outputs": [
    {
     "name": "stderr",
     "output_type": "stream",
     "text": [
      "C:\\Users\\Jacqueline Zhou\\Anaconda3\\envs\\python2\\lib\\site-packages\\sklearn\\cross_validation.py:44: DeprecationWarning: This module was deprecated in version 0.18 in favor of the model_selection module into which all the refactored classes and functions are moved. Also note that the interface of the new CV iterators are different from that of this module. This module will be removed in 0.20.\n",
      "  \"This module will be removed in 0.20.\", DeprecationWarning)\n",
      "C:\\Users\\Jacqueline Zhou\\Anaconda3\\envs\\python2\\lib\\site-packages\\sklearn\\grid_search.py:43: DeprecationWarning: This module was deprecated in version 0.18 in favor of the model_selection module into which all the refactored classes and functions are moved. This module will be removed in 0.20.\n",
      "  DeprecationWarning)\n"
     ]
    }
   ],
   "source": [
    "# special IPython command to prepare the notebook for matplotlib\n",
    "%matplotlib inline \n",
    "\n",
    "import requests \n",
    "import StringIO\n",
    "import zipfile\n",
    "import numpy as np\n",
    "import pandas as pd # pandas\n",
    "import matplotlib.pyplot as plt # module for plotting \n",
    "\n",
    "# If this module is not already installed, you may need to install it. \n",
    "# You can do this by typing 'pip install seaborn' in the command line\n",
    "import seaborn as sns \n",
    "\n",
    "import sklearn\n",
    "import sklearn.datasets\n",
    "import sklearn.model_selection\n",
    "import sklearn.decomposition\n",
    "import sklearn.grid_search\n",
    "import sklearn.neighbors\n",
    "import sklearn.metrics"
   ]
  },
  {
   "cell_type": "markdown",
   "metadata": {},
   "source": [
    "# Problem 1: Sabermetrics\n",
    "\n",
    "Using data preceding the 2002 season pick 10 offensive players keeping the payroll under $20 million (assign each player the median salary). Predict how many games this team would win in a 162 game season.  \n",
    "\n",
    "In this problem we will be returning to the [Sean Lahman's Baseball Database](http://seanlahman.com/baseball-archive/statistics) that we used in Homework 1.  From this database, we will be extract five data sets containing information such as yearly stats and standing, batting statistics, fielding statistics, player names, player salaries and biographical information. You will explore the data in this database from before 2002 and create a metric for picking players. "
   ]
  },
  {
   "cell_type": "markdown",
   "metadata": {},
   "source": [
    "#### Problem 1(a) \n",
    "\n",
    "Load in [these CSV files](http://seanlahman.com/files/database/lahman-csv_2014-02-14.zip) from the [Sean Lahman's Baseball Database](http://seanlahman.com/baseball-archive/statistics). For this assignment, we will use the 'Teams.csv', 'Batting.csv', 'Salaries.csv', 'Fielding.csv', 'Master.csv' tables. Read these tables into separate pandas DataFrames with the following names. \n",
    "\n",
    "CSV file name | Name of pandas DataFrame\n",
    ":---: | :---: \n",
    "Teams.csv | teams\n",
    "Batting.csv | players\n",
    "Salaries.csv | salaries\n",
    "Fielding.csv | fielding\n",
    "Master.csv | master"
   ]
  },
  {
   "cell_type": "code",
   "execution_count": 28,
   "metadata": {
    "collapsed": false
   },
   "outputs": [],
   "source": [
    "### Your code here ###\n",
    "teams = pd.read_csv('hw3_data\\Teams.csv')\n",
    "players = pd.read_csv('hw3_data\\Batting.csv')\n",
    "salaries = pd.read_csv('hw3_data\\Salaries.csv')\n",
    "fielding = pd.read_csv('hw3_data\\Fielding.csv')\n",
    "master = pd.read_csv('hw3_data\\Master.csv')"
   ]
  },
  {
   "cell_type": "markdown",
   "metadata": {},
   "source": [
    "#### Problem 1(b)\n",
    "\n",
    "Calculate the median salary for each player and create a pandas DataFrame called `medianSalaries` with four columns: (1) the player ID, (2) the first name of the player, (3) the last name of the player and (4) the median salary of the player. Show the head of the `medianSalaries` DataFrame.   "
   ]
  },
  {
   "cell_type": "code",
   "execution_count": 29,
   "metadata": {
    "collapsed": false
   },
   "outputs": [
    {
     "data": {
      "text/html": [
       "<div>\n",
       "<table border=\"1\" class=\"dataframe\">\n",
       "  <thead>\n",
       "    <tr style=\"text-align: right;\">\n",
       "      <th></th>\n",
       "      <th>medianSalary</th>\n",
       "      <th>nameFirst</th>\n",
       "      <th>nameLast</th>\n",
       "    </tr>\n",
       "    <tr>\n",
       "      <th>playerID</th>\n",
       "      <th></th>\n",
       "      <th></th>\n",
       "      <th></th>\n",
       "    </tr>\n",
       "  </thead>\n",
       "  <tbody>\n",
       "    <tr>\n",
       "      <th>aardsda01</th>\n",
       "      <td>419000</td>\n",
       "      <td>David</td>\n",
       "      <td>Aardsma</td>\n",
       "    </tr>\n",
       "    <tr>\n",
       "      <th>aasedo01</th>\n",
       "      <td>612500</td>\n",
       "      <td>Don</td>\n",
       "      <td>Aase</td>\n",
       "    </tr>\n",
       "    <tr>\n",
       "      <th>abadan01</th>\n",
       "      <td>327000</td>\n",
       "      <td>Andy</td>\n",
       "      <td>Abad</td>\n",
       "    </tr>\n",
       "    <tr>\n",
       "      <th>abadfe01</th>\n",
       "      <td>451500</td>\n",
       "      <td>Fernando</td>\n",
       "      <td>Abad</td>\n",
       "    </tr>\n",
       "    <tr>\n",
       "      <th>abbotje01</th>\n",
       "      <td>255000</td>\n",
       "      <td>Jeff</td>\n",
       "      <td>Abbott</td>\n",
       "    </tr>\n",
       "  </tbody>\n",
       "</table>\n",
       "</div>"
      ],
      "text/plain": [
       "           medianSalary nameFirst nameLast\n",
       "playerID                                  \n",
       "aardsda01        419000     David  Aardsma\n",
       "aasedo01         612500       Don     Aase\n",
       "abadan01         327000      Andy     Abad\n",
       "abadfe01         451500  Fernando     Abad\n",
       "abbotje01        255000      Jeff   Abbott"
      ]
     },
     "execution_count": 29,
     "metadata": {},
     "output_type": "execute_result"
    }
   ],
   "source": [
    "### Your code here ###\n",
    "medianSalary = salaries['salary'].groupby(salaries['playerID']).median()\n",
    "medianSalaries = pd.DataFrame({'medianSalary': medianSalary}, index = None)\n",
    "names = master[['playerID', 'nameFirst', 'nameLast']]\n",
    "names.set_index('playerID', inplace = True)\n",
    "medianSalaries = medianSalaries.join(names, how = 'inner')\n",
    "medianSalaries.reset_index()\n",
    "medianSalaries.head()"
   ]
  },
  {
   "cell_type": "markdown",
   "metadata": {},
   "source": [
    "#### Problem 1(c)\n",
    "\n",
    "Now, consider only team/season combinations in which the teams played 162 Games. Exclude all data from before 1947. Compute the per plate appearance rates for singles, doubles, triples, HR, and BB. Create a new pandas DataFrame called `stats` that has the teamID, yearID, wins and these rates.\n",
    "\n",
    "**Hint**: Singles are hits that are not doubles, triples, nor HR. Plate appearances are base on balls plus at bats."
   ]
  },
  {
   "cell_type": "code",
   "execution_count": 30,
   "metadata": {
    "collapsed": false
   },
   "outputs": [
    {
     "name": "stderr",
     "output_type": "stream",
     "text": [
      "C:\\Users\\Jacqueline Zhou\\Anaconda3\\envs\\python2\\lib\\site-packages\\ipykernel\\__main__.py:7: SettingWithCopyWarning: \n",
      "A value is trying to be set on a copy of a slice from a DataFrame.\n",
      "Try using .loc[row_indexer,col_indexer] = value instead\n",
      "\n",
      "See the caveats in the documentation: http://pandas.pydata.org/pandas-docs/stable/indexing.html#indexing-view-versus-copy\n"
     ]
    },
    {
     "data": {
      "text/html": [
       "<div>\n",
       "<table border=\"1\" class=\"dataframe\">\n",
       "  <thead>\n",
       "    <tr style=\"text-align: right;\">\n",
       "      <th></th>\n",
       "      <th>teamID</th>\n",
       "      <th>yearID</th>\n",
       "      <th>W</th>\n",
       "      <th>S</th>\n",
       "      <th>2B</th>\n",
       "      <th>3B</th>\n",
       "      <th>HR</th>\n",
       "      <th>BB</th>\n",
       "    </tr>\n",
       "  </thead>\n",
       "  <tbody>\n",
       "    <tr>\n",
       "      <th>1366</th>\n",
       "      <td>LAA</td>\n",
       "      <td>1961</td>\n",
       "      <td>70</td>\n",
       "      <td>0.147748</td>\n",
       "      <td>0.035708</td>\n",
       "      <td>0.003604</td>\n",
       "      <td>0.030958</td>\n",
       "      <td>0.111548</td>\n",
       "    </tr>\n",
       "    <tr>\n",
       "      <th>1367</th>\n",
       "      <td>KC1</td>\n",
       "      <td>1961</td>\n",
       "      <td>61</td>\n",
       "      <td>0.164751</td>\n",
       "      <td>0.035982</td>\n",
       "      <td>0.007829</td>\n",
       "      <td>0.014993</td>\n",
       "      <td>0.096618</td>\n",
       "    </tr>\n",
       "    <tr>\n",
       "      <th>1377</th>\n",
       "      <td>NYA</td>\n",
       "      <td>1962</td>\n",
       "      <td>96</td>\n",
       "      <td>0.167148</td>\n",
       "      <td>0.038536</td>\n",
       "      <td>0.004656</td>\n",
       "      <td>0.031952</td>\n",
       "      <td>0.093770</td>\n",
       "    </tr>\n",
       "    <tr>\n",
       "      <th>1379</th>\n",
       "      <td>LAA</td>\n",
       "      <td>1962</td>\n",
       "      <td>86</td>\n",
       "      <td>0.159482</td>\n",
       "      <td>0.038027</td>\n",
       "      <td>0.005737</td>\n",
       "      <td>0.022455</td>\n",
       "      <td>0.098672</td>\n",
       "    </tr>\n",
       "    <tr>\n",
       "      <th>1381</th>\n",
       "      <td>CHA</td>\n",
       "      <td>1962</td>\n",
       "      <td>85</td>\n",
       "      <td>0.165797</td>\n",
       "      <td>0.040756</td>\n",
       "      <td>0.009129</td>\n",
       "      <td>0.014998</td>\n",
       "      <td>0.101076</td>\n",
       "    </tr>\n",
       "  </tbody>\n",
       "</table>\n",
       "</div>"
      ],
      "text/plain": [
       "     teamID  yearID   W         S        2B        3B        HR        BB\n",
       "1366    LAA    1961  70  0.147748  0.035708  0.003604  0.030958  0.111548\n",
       "1367    KC1    1961  61  0.164751  0.035982  0.007829  0.014993  0.096618\n",
       "1377    NYA    1962  96  0.167148  0.038536  0.004656  0.031952  0.093770\n",
       "1379    LAA    1962  86  0.159482  0.038027  0.005737  0.022455  0.098672\n",
       "1381    CHA    1962  85  0.165797  0.040756  0.009129  0.014998  0.101076"
      ]
     },
     "execution_count": 30,
     "metadata": {},
     "output_type": "execute_result"
    }
   ],
   "source": [
    "### Your code here ###\n",
    "#subset data after 1947 and 162 games\n",
    "teams_small = teams[(teams['yearID'] >= 1947) & (teams['G'] == 162)]\n",
    "#number of plate appearances\n",
    "plate_app = teams_small['BB'] + teams_small['AB']\n",
    "#calculate singles\n",
    "teams_small['S'] = teams_small['H'] - teams_small['2B'] - teams_small['3B'] - teams_small['HR']\n",
    "#per plate appearances of singles, doubles, triples, HR and BB\n",
    "stats = teams_small[['teamID', 'yearID', 'W', 'S', '2B', '3B', 'HR', 'BB']]\n",
    "stats[['S', '2B', '3B', 'HR', 'BB']] = stats[['S', '2B', '3B', 'HR', 'BB']].div(plate_app, axis = 0)\n",
    "stats.head()"
   ]
  },
  {
   "cell_type": "markdown",
   "metadata": {},
   "source": [
    "#### Problem 1(d)\n",
    "\n",
    "Is there a noticeable time trend in the rates computed computed in Problem 1(c)? "
   ]
  },
  {
   "cell_type": "code",
   "execution_count": 31,
   "metadata": {
    "collapsed": false
   },
   "outputs": [
    {
     "data": {
      "image/png": "[encoded data removed]",
      "text/plain": [
       "<matplotlib.figure.Figure at 0xeba6f98>"
      ]
     },
     "metadata": {},
     "output_type": "display_data"
    }
   ],
   "source": [
    "### Your code here ###\n",
    "x = stats['yearID']\n",
    "#singles\n",
    "plt.scatter(x, stats['S'], c = 'r')\n",
    "#doubles\n",
    "plt.scatter(x, stats['2B'], c = 'g')\n",
    "#triples\n",
    "plt.scatter(x, stats['3B'], c= 'b')\n",
    "#hr\n",
    "plt.scatter(x, stats['HR'], c = 'c')\n",
    "#bb\n",
    "plt.scatter(x, stats['BB'], c = 'm')\n",
    "plt.xlim([1960, 2015])\n",
    "plt.ylim([0, 0.20])\n",
    "plt.legend()\n",
    "plt.show()"
   ]
  },
  {
   "cell_type": "markdown",
   "metadata": {},
   "source": [
    "No noticeable time trend"
   ]
  },
  {
   "cell_type": "markdown",
   "metadata": {},
   "source": [
    "#### Problem 1(e) \n",
    "\n",
    "Using the `stats` DataFrame from Problem 1(c), adjust the singles per PA rates so that the average across teams for each year is 0. Do the same for the doubles, triples, HR, and BB rates. "
   ]
  },
  {
   "cell_type": "code",
   "execution_count": 32,
   "metadata": {
    "collapsed": false
   },
   "outputs": [
    {
     "name": "stdout",
     "output_type": "stream",
     "text": [
      "     teamID  yearID   W         S        2B        3B        HR        BB\n",
      "1366    LAA    1961  70 -0.008502 -0.000137 -0.002113  0.007983  0.007465\n",
      "1367    KC1    1961  61  0.008502  0.000137  0.002113 -0.007983 -0.007465\n",
      "1377    NYA    1962  96  0.001516  0.002683 -0.002121  0.008141  0.005180\n",
      "1379    LAA    1962  86 -0.006150  0.002174 -0.001040 -0.001356  0.010082\n",
      "1381    CHA    1962  85  0.000165  0.004904  0.002352 -0.008813  0.012486\n"
     ]
    }
   ],
   "source": [
    "### Your code here ###\n",
    "def demean(df):\n",
    "    rates = df[['S', '2B', '3B', 'HR', 'BB']]\n",
    "    df[['S', '2B', '3B', 'HR', 'BB']] = rates - rates.mean()\n",
    "    return df\n",
    "    \n",
    "stats = stats.groupby('yearID').apply(demean)   \n",
    "print stats.head()"
   ]
  },
  {
   "cell_type": "markdown",
   "metadata": {},
   "source": [
    "#### Problem 1(f)\n",
    "\n",
    "Build a simple linear regression model to predict the number of wins from the average adjusted singles, double, triples, HR, and BB rates. To decide which of these terms to include fit the model to data from 2002 and compute the average squared residuals from predictions to years past 2002. Use the fitted model to define a new sabermetric summary: offensive predicted wins (OPW). Hint: the new summary should be a linear combination of one to five of the five rates.\n"
   ]
  },
  {
   "cell_type": "code",
   "execution_count": 39,
   "metadata": {
    "collapsed": false
   },
   "outputs": [
    {
     "name": "stdout",
     "output_type": "stream",
     "text": [
      "[  523.51121499   479.73673295  1138.48602313   851.67216873   511.45942978]\n",
      "MSE is 83.8230424898\n"
     ]
    }
   ],
   "source": [
    "### Your code here ###\n",
    "from sklearn.linear_model import LinearRegression\n",
    "stats_2002 = stats[stats['yearID'] < 2002]\n",
    "stats_after = stats[stats['yearID'] >= 2002]\n",
    "X_train = stats_2002[['S', '2B', '3B', 'HR', 'BB']]\n",
    "Y_train = stats_2002['W']\n",
    "X_test = stats_after[['S', '2B', '3B', 'HR', 'BB']]\n",
    "Y_test = stats_after['W']\n",
    "lm = LinearRegression()\n",
    "lm.fit(X_train, Y_train)\n",
    "print lm.coef_\n",
    "lm.predict(X_test)\n",
    "#MSE\n",
    "print \"MSE is\", np.mean((Y_test - lm.predict(X_test))**2)"
   ]
  },
  {
   "cell_type": "markdown",
   "metadata": {},
   "source": [
    "** Your answer here: **"
   ]
  },
  {
   "cell_type": "markdown",
   "metadata": {},
   "source": [
    "#### Problem 1(g)\n",
    "\n",
    "Now we will create a similar database for individual players. Consider only player/year combinations in which the player had at least 500 plate appearances. Consider only the years we considered for the calculations above (after 1947 and seasons with 162 games). For each player/year compute singles, doubles, triples, HR, BB per plate appearance rates. Create a new pandas DataFrame called `playerstats` that has the playerID, yearID and the rates of these stats.  Remove the average for each year as for these rates as done in Problem 1(e). "
   ]
  },
  {
   "cell_type": "code",
   "execution_count": 40,
   "metadata": {
    "collapsed": false
   },
   "outputs": [
    {
     "name": "stderr",
     "output_type": "stream",
     "text": [
      "C:\\Users\\Jacqueline Zhou\\Anaconda3\\envs\\python2\\lib\\site-packages\\ipykernel\\__main__.py:5: SettingWithCopyWarning: \n",
      "A value is trying to be set on a copy of a slice from a DataFrame.\n",
      "Try using .loc[row_indexer,col_indexer] = value instead\n",
      "\n",
      "See the caveats in the documentation: http://pandas.pydata.org/pandas-docs/stable/indexing.html#indexing-view-versus-copy\n"
     ]
    }
   ],
   "source": [
    "### Your code here ###\n",
    "players['plate_app'] = players['AB'] + players['BB'] \n",
    "players_small = players[(players['yearID'] > 1947) & (players['plate_app'] > 500)]\n",
    "#calculate singles\n",
    "players_small['S'] = players['H'] - players['2B'] - players['3B'] - players['HR']\n",
    "#calculate per plate appearances\n",
    "playerstats = players_small[['playerID', 'yearID','S', '2B', '3B', 'HR', 'BB']]\n",
    "playerstats[['S', '2B', '3B', 'HR', 'BB']] = playerstats[['S', '2B', '3B', 'HR', 'BB']].div(players_small['plate_app'], axis = 0)\n",
    "#demean\n",
    "playerstats = playerstats.groupby('yearID').apply(demean)"
   ]
  },
  {
   "cell_type": "markdown",
   "metadata": {},
   "source": [
    "Show the head of the `playerstats` DataFrame. "
   ]
  },
  {
   "cell_type": "code",
   "execution_count": 41,
   "metadata": {
    "collapsed": false
   },
   "outputs": [
    {
     "data": {
      "text/html": [
       "<div>\n",
       "<table border=\"1\" class=\"dataframe\">\n",
       "  <thead>\n",
       "    <tr style=\"text-align: right;\">\n",
       "      <th></th>\n",
       "      <th>playerID</th>\n",
       "      <th>yearID</th>\n",
       "      <th>S</th>\n",
       "      <th>2B</th>\n",
       "      <th>3B</th>\n",
       "      <th>HR</th>\n",
       "      <th>BB</th>\n",
       "    </tr>\n",
       "  </thead>\n",
       "  <tbody>\n",
       "    <tr>\n",
       "      <th>8</th>\n",
       "      <td>aaronha01</td>\n",
       "      <td>1955</td>\n",
       "      <td>0.001060</td>\n",
       "      <td>0.018570</td>\n",
       "      <td>0.005585</td>\n",
       "      <td>0.011337</td>\n",
       "      <td>-0.027249</td>\n",
       "    </tr>\n",
       "    <tr>\n",
       "      <th>9</th>\n",
       "      <td>aaronha01</td>\n",
       "      <td>1956</td>\n",
       "      <td>0.021561</td>\n",
       "      <td>0.013857</td>\n",
       "      <td>0.012480</td>\n",
       "      <td>0.009593</td>\n",
       "      <td>-0.044600</td>\n",
       "    </tr>\n",
       "    <tr>\n",
       "      <th>10</th>\n",
       "      <td>aaronha01</td>\n",
       "      <td>1957</td>\n",
       "      <td>0.004817</td>\n",
       "      <td>-0.002034</td>\n",
       "      <td>0.000466</td>\n",
       "      <td>0.037093</td>\n",
       "      <td>-0.013166</td>\n",
       "    </tr>\n",
       "    <tr>\n",
       "      <th>11</th>\n",
       "      <td>aaronha01</td>\n",
       "      <td>1958</td>\n",
       "      <td>0.018367</td>\n",
       "      <td>0.011015</td>\n",
       "      <td>-0.002219</td>\n",
       "      <td>0.015398</td>\n",
       "      <td>-0.007762</td>\n",
       "    </tr>\n",
       "    <tr>\n",
       "      <th>12</th>\n",
       "      <td>aaronha01</td>\n",
       "      <td>1959</td>\n",
       "      <td>0.016261</td>\n",
       "      <td>0.025762</td>\n",
       "      <td>0.002743</td>\n",
       "      <td>0.028368</td>\n",
       "      <td>-0.022898</td>\n",
       "    </tr>\n",
       "  </tbody>\n",
       "</table>\n",
       "</div>"
      ],
      "text/plain": [
       "     playerID  yearID         S        2B        3B        HR        BB\n",
       "8   aaronha01    1955  0.001060  0.018570  0.005585  0.011337 -0.027249\n",
       "9   aaronha01    1956  0.021561  0.013857  0.012480  0.009593 -0.044600\n",
       "10  aaronha01    1957  0.004817 -0.002034  0.000466  0.037093 -0.013166\n",
       "11  aaronha01    1958  0.018367  0.011015 -0.002219  0.015398 -0.007762\n",
       "12  aaronha01    1959  0.016261  0.025762  0.002743  0.028368 -0.022898"
      ]
     },
     "execution_count": 41,
     "metadata": {},
     "output_type": "execute_result"
    }
   ],
   "source": [
    "### Your code here ###\n",
    "playerstats.head()"
   ]
  },
  {
   "cell_type": "markdown",
   "metadata": {},
   "source": [
    "#### Problem 1(h)\n",
    "\n",
    "Using the `playerstats` DataFrame created in Problem 1(g), create a new DataFrame called `playerLS` containing the player's lifetime stats. This DataFrame should contain the playerID, the year the player's career started, the year the player's career ended and the player's lifetime average for each of the quantities (singles, doubles, triples, HR, BB). For simplicity we will simply compute the avaerage of the rates by year (a more correct way is to go back to the totals). "
   ]
  },
  {
   "cell_type": "code",
   "execution_count": 45,
   "metadata": {
    "collapsed": false
   },
   "outputs": [
    {
     "name": "stderr",
     "output_type": "stream",
     "text": [
      "C:\\Users\\Jacqueline Zhou\\Anaconda3\\envs\\python2\\lib\\site-packages\\ipykernel\\__main__.py:3: SettingWithCopyWarning: \n",
      "A value is trying to be set on a copy of a slice from a DataFrame.\n",
      "Try using .loc[row_indexer,col_indexer] = value instead\n",
      "\n",
      "See the caveats in the documentation: http://pandas.pydata.org/pandas-docs/stable/indexing.html#indexing-view-versus-copy\n",
      "  app.launch_new_instance()\n",
      "C:\\Users\\Jacqueline Zhou\\Anaconda3\\envs\\python2\\lib\\site-packages\\ipykernel\\__main__.py:4: SettingWithCopyWarning: \n",
      "A value is trying to be set on a copy of a slice from a DataFrame.\n",
      "Try using .loc[row_indexer,col_indexer] = value instead\n",
      "\n",
      "See the caveats in the documentation: http://pandas.pydata.org/pandas-docs/stable/indexing.html#indexing-view-versus-copy\n"
     ]
    }
   ],
   "source": [
    "### Your code here ###\n",
    "playerLS = master[['debut', 'finalGame']]\n",
    "playerLS['debut'] = playerLS['debut'].str.split('-').str[0].astype('float')\n",
    "playerLS['finalGame'] = playerLS['finalGame'].str.split('-').str[0].astype('float')\n",
    "playerLS.set_index(master['playerID'], inplace = True)\n",
    "player_rates = playerstats[['S', '2B', '3B', 'HR', 'BB']].groupby(playerstats['playerID']).mean()\n",
    "playerLS = playerLS.join(player_rates, how = 'inner')"
   ]
  },
  {
   "cell_type": "markdown",
   "metadata": {},
   "source": [
    "Show the head of the `playerLS` DataFrame. "
   ]
  },
  {
   "cell_type": "code",
   "execution_count": 46,
   "metadata": {
    "collapsed": false
   },
   "outputs": [
    {
     "data": {
      "text/html": [
       "<div>\n",
       "<table border=\"1\" class=\"dataframe\">\n",
       "  <thead>\n",
       "    <tr style=\"text-align: right;\">\n",
       "      <th></th>\n",
       "      <th>debut</th>\n",
       "      <th>finalGame</th>\n",
       "      <th>S</th>\n",
       "      <th>2B</th>\n",
       "      <th>3B</th>\n",
       "      <th>HR</th>\n",
       "      <th>BB</th>\n",
       "    </tr>\n",
       "    <tr>\n",
       "      <th>playerID</th>\n",
       "      <th></th>\n",
       "      <th></th>\n",
       "      <th></th>\n",
       "      <th></th>\n",
       "      <th></th>\n",
       "      <th></th>\n",
       "      <th></th>\n",
       "    </tr>\n",
       "  </thead>\n",
       "  <tbody>\n",
       "    <tr>\n",
       "      <th>aaronha01</th>\n",
       "      <td>1954.0</td>\n",
       "      <td>1976.0</td>\n",
       "      <td>-0.007157</td>\n",
       "      <td>0.006539</td>\n",
       "      <td>-0.000270</td>\n",
       "      <td>0.027850</td>\n",
       "      <td>0.009447</td>\n",
       "    </tr>\n",
       "    <tr>\n",
       "      <th>abramca01</th>\n",
       "      <td>1949.0</td>\n",
       "      <td>1956.0</td>\n",
       "      <td>0.013463</td>\n",
       "      <td>-0.023915</td>\n",
       "      <td>0.002384</td>\n",
       "      <td>0.003842</td>\n",
       "      <td>0.019455</td>\n",
       "    </tr>\n",
       "    <tr>\n",
       "      <th>abreubo01</th>\n",
       "      <td>1996.0</td>\n",
       "      <td>2012.0</td>\n",
       "      <td>-0.008202</td>\n",
       "      <td>0.006421</td>\n",
       "      <td>0.001002</td>\n",
       "      <td>-0.003252</td>\n",
       "      <td>0.050501</td>\n",
       "    </tr>\n",
       "    <tr>\n",
       "      <th>ackledu01</th>\n",
       "      <td>2011.0</td>\n",
       "      <td>2013.0</td>\n",
       "      <td>-0.009270</td>\n",
       "      <td>-0.016605</td>\n",
       "      <td>-0.001974</td>\n",
       "      <td>-0.015274</td>\n",
       "      <td>0.001597</td>\n",
       "    </tr>\n",
       "    <tr>\n",
       "      <th>adairje01</th>\n",
       "      <td>1958.0</td>\n",
       "      <td>1970.0</td>\n",
       "      <td>0.011933</td>\n",
       "      <td>0.003286</td>\n",
       "      <td>-0.002139</td>\n",
       "      <td>-0.012934</td>\n",
       "      <td>-0.037229</td>\n",
       "    </tr>\n",
       "  </tbody>\n",
       "</table>\n",
       "</div>"
      ],
      "text/plain": [
       "            debut  finalGame         S        2B        3B        HR        BB\n",
       "playerID                                                                      \n",
       "aaronha01  1954.0     1976.0 -0.007157  0.006539 -0.000270  0.027850  0.009447\n",
       "abramca01  1949.0     1956.0  0.013463 -0.023915  0.002384  0.003842  0.019455\n",
       "abreubo01  1996.0     2012.0 -0.008202  0.006421  0.001002 -0.003252  0.050501\n",
       "ackledu01  2011.0     2013.0 -0.009270 -0.016605 -0.001974 -0.015274  0.001597\n",
       "adairje01  1958.0     1970.0  0.011933  0.003286 -0.002139 -0.012934 -0.037229"
      ]
     },
     "execution_count": 46,
     "metadata": {},
     "output_type": "execute_result"
    }
   ],
   "source": [
    "### Your code here ###\n",
    "playerLS.head()"
   ]
  },
  {
   "cell_type": "markdown",
   "metadata": {},
   "source": [
    "#### Problem 1(i)\n",
    "\n",
    "Compute the OPW for each player based on the average rates in the `playerLS` DataFrame. You can interpret this summary statistic as the predicted wins for a team with 9 batters exactly like the player in question. Add this column to the playerLS DataFrame. Call this colum OPW."
   ]
  },
  {
   "cell_type": "code",
   "execution_count": 47,
   "metadata": {
    "collapsed": false
   },
   "outputs": [
    {
     "data": {
      "text/html": [
       "<div>\n",
       "<table border=\"1\" class=\"dataframe\">\n",
       "  <thead>\n",
       "    <tr style=\"text-align: right;\">\n",
       "      <th></th>\n",
       "      <th>debut</th>\n",
       "      <th>finalGame</th>\n",
       "      <th>S</th>\n",
       "      <th>2B</th>\n",
       "      <th>3B</th>\n",
       "      <th>HR</th>\n",
       "      <th>BB</th>\n",
       "      <th>OPW</th>\n",
       "    </tr>\n",
       "    <tr>\n",
       "      <th>playerID</th>\n",
       "      <th></th>\n",
       "      <th></th>\n",
       "      <th></th>\n",
       "      <th></th>\n",
       "      <th></th>\n",
       "      <th></th>\n",
       "      <th></th>\n",
       "      <th></th>\n",
       "    </tr>\n",
       "  </thead>\n",
       "  <tbody>\n",
       "    <tr>\n",
       "      <th>aaronha01</th>\n",
       "      <td>1954.0</td>\n",
       "      <td>1976.0</td>\n",
       "      <td>-0.007157</td>\n",
       "      <td>0.006539</td>\n",
       "      <td>-0.000270</td>\n",
       "      <td>0.027850</td>\n",
       "      <td>0.009447</td>\n",
       "      <td>108.696139</td>\n",
       "    </tr>\n",
       "    <tr>\n",
       "      <th>abramca01</th>\n",
       "      <td>1949.0</td>\n",
       "      <td>1956.0</td>\n",
       "      <td>0.013463</td>\n",
       "      <td>-0.023915</td>\n",
       "      <td>0.002384</td>\n",
       "      <td>0.003842</td>\n",
       "      <td>0.019455</td>\n",
       "      <td>92.575472</td>\n",
       "    </tr>\n",
       "    <tr>\n",
       "      <th>abreubo01</th>\n",
       "      <td>1996.0</td>\n",
       "      <td>2012.0</td>\n",
       "      <td>-0.008202</td>\n",
       "      <td>0.006421</td>\n",
       "      <td>0.001002</td>\n",
       "      <td>-0.003252</td>\n",
       "      <td>0.050501</td>\n",
       "      <td>104.050008</td>\n",
       "    </tr>\n",
       "    <tr>\n",
       "      <th>ackledu01</th>\n",
       "      <td>2011.0</td>\n",
       "      <td>2013.0</td>\n",
       "      <td>-0.009270</td>\n",
       "      <td>-0.016605</td>\n",
       "      <td>-0.001974</td>\n",
       "      <td>-0.015274</td>\n",
       "      <td>0.001597</td>\n",
       "      <td>53.806003</td>\n",
       "    </tr>\n",
       "    <tr>\n",
       "      <th>adairje01</th>\n",
       "      <td>1958.0</td>\n",
       "      <td>1970.0</td>\n",
       "      <td>0.011933</td>\n",
       "      <td>0.003286</td>\n",
       "      <td>-0.002139</td>\n",
       "      <td>-0.012934</td>\n",
       "      <td>-0.037229</td>\n",
       "      <td>56.395050</td>\n",
       "    </tr>\n",
       "  </tbody>\n",
       "</table>\n",
       "</div>"
      ],
      "text/plain": [
       "            debut  finalGame         S        2B        3B        HR  \\\n",
       "playerID                                                               \n",
       "aaronha01  1954.0     1976.0 -0.007157  0.006539 -0.000270  0.027850   \n",
       "abramca01  1949.0     1956.0  0.013463 -0.023915  0.002384  0.003842   \n",
       "abreubo01  1996.0     2012.0 -0.008202  0.006421  0.001002 -0.003252   \n",
       "ackledu01  2011.0     2013.0 -0.009270 -0.016605 -0.001974 -0.015274   \n",
       "adairje01  1958.0     1970.0  0.011933  0.003286 -0.002139 -0.012934   \n",
       "\n",
       "                 BB         OPW  \n",
       "playerID                         \n",
       "aaronha01  0.009447  108.696139  \n",
       "abramca01  0.019455   92.575472  \n",
       "abreubo01  0.050501  104.050008  \n",
       "ackledu01  0.001597   53.806003  \n",
       "adairje01 -0.037229   56.395050  "
      ]
     },
     "execution_count": 47,
     "metadata": {},
     "output_type": "execute_result"
    }
   ],
   "source": [
    "### Your code here ###\n",
    "playerLS['OPW'] =  lm.predict(playerLS[['S', '2B', '3B', 'HR', 'BB']])\n",
    "playerLS.head()"
   ]
  },
  {
   "cell_type": "markdown",
   "metadata": {},
   "source": [
    "#### Problem 1(j)\n",
    "\n",
    "Add four columns to the `playerLS` DataFrame that contains the player's position (C, 1B, 2B, 3B, SS, LF, CF, RF, or OF), first name, last name and median salary. "
   ]
  },
  {
   "cell_type": "code",
   "execution_count": 48,
   "metadata": {
    "collapsed": false
   },
   "outputs": [],
   "source": [
    "### Your code here ###\n",
    "#get position of player (assume mode)\n",
    "position = fielding.groupby(fielding['playerID'])['POS'].agg(lambda x: x.value_counts().index[0])\n",
    "#merge\n",
    "playerLS_merged = playerLS.join(medianSalaries, how = 'inner')\n",
    "playerLS_merged = playerLS_merged.join(position)"
   ]
  },
  {
   "cell_type": "markdown",
   "metadata": {},
   "source": [
    "Show the head of the `playerLS` DataFrame. "
   ]
  },
  {
   "cell_type": "code",
   "execution_count": 50,
   "metadata": {
    "collapsed": false
   },
   "outputs": [
    {
     "data": {
      "text/html": [
       "<div>\n",
       "<table border=\"1\" class=\"dataframe\">\n",
       "  <thead>\n",
       "    <tr style=\"text-align: right;\">\n",
       "      <th></th>\n",
       "      <th>debut</th>\n",
       "      <th>finalGame</th>\n",
       "      <th>S</th>\n",
       "      <th>2B</th>\n",
       "      <th>3B</th>\n",
       "      <th>HR</th>\n",
       "      <th>BB</th>\n",
       "      <th>OPW</th>\n",
       "      <th>medianSalary</th>\n",
       "      <th>nameFirst</th>\n",
       "      <th>nameLast</th>\n",
       "      <th>POS</th>\n",
       "    </tr>\n",
       "    <tr>\n",
       "      <th>playerID</th>\n",
       "      <th></th>\n",
       "      <th></th>\n",
       "      <th></th>\n",
       "      <th></th>\n",
       "      <th></th>\n",
       "      <th></th>\n",
       "      <th></th>\n",
       "      <th></th>\n",
       "      <th></th>\n",
       "      <th></th>\n",
       "      <th></th>\n",
       "      <th></th>\n",
       "    </tr>\n",
       "  </thead>\n",
       "  <tbody>\n",
       "    <tr>\n",
       "      <th>abreubo01</th>\n",
       "      <td>1996.0</td>\n",
       "      <td>2012.0</td>\n",
       "      <td>-0.008202</td>\n",
       "      <td>0.006421</td>\n",
       "      <td>0.001002</td>\n",
       "      <td>-0.003252</td>\n",
       "      <td>0.050501</td>\n",
       "      <td>104.050008</td>\n",
       "      <td>9000000</td>\n",
       "      <td>Bobby</td>\n",
       "      <td>Abreu</td>\n",
       "      <td>RF</td>\n",
       "    </tr>\n",
       "    <tr>\n",
       "      <th>ackledu01</th>\n",
       "      <td>2011.0</td>\n",
       "      <td>2013.0</td>\n",
       "      <td>-0.009270</td>\n",
       "      <td>-0.016605</td>\n",
       "      <td>-0.001974</td>\n",
       "      <td>-0.015274</td>\n",
       "      <td>0.001597</td>\n",
       "      <td>53.806003</td>\n",
       "      <td>2400000</td>\n",
       "      <td>Dustin</td>\n",
       "      <td>Ackley</td>\n",
       "      <td>2B</td>\n",
       "    </tr>\n",
       "    <tr>\n",
       "      <th>adamsru01</th>\n",
       "      <td>2004.0</td>\n",
       "      <td>2009.0</td>\n",
       "      <td>-0.007867</td>\n",
       "      <td>-0.001289</td>\n",
       "      <td>0.004160</td>\n",
       "      <td>-0.017533</td>\n",
       "      <td>0.002672</td>\n",
       "      <td>67.496507</td>\n",
       "      <td>329500</td>\n",
       "      <td>Russ</td>\n",
       "      <td>Adams</td>\n",
       "      <td>SS</td>\n",
       "    </tr>\n",
       "    <tr>\n",
       "      <th>alfoned01</th>\n",
       "      <td>1995.0</td>\n",
       "      <td>2006.0</td>\n",
       "      <td>0.013485</td>\n",
       "      <td>-0.002177</td>\n",
       "      <td>-0.003239</td>\n",
       "      <td>-0.006436</td>\n",
       "      <td>0.010745</td>\n",
       "      <td>83.404437</td>\n",
       "      <td>4112500</td>\n",
       "      <td>Edgardo</td>\n",
       "      <td>Alfonzo</td>\n",
       "      <td>2B</td>\n",
       "    </tr>\n",
       "    <tr>\n",
       "      <th>alicelu01</th>\n",
       "      <td>1988.0</td>\n",
       "      <td>2002.0</td>\n",
       "      <td>0.035625</td>\n",
       "      <td>-0.009597</td>\n",
       "      <td>0.007988</td>\n",
       "      <td>-0.026156</td>\n",
       "      <td>-0.006580</td>\n",
       "      <td>78.561778</td>\n",
       "      <td>750000</td>\n",
       "      <td>Luis</td>\n",
       "      <td>Alicea</td>\n",
       "      <td>2B</td>\n",
       "    </tr>\n",
       "  </tbody>\n",
       "</table>\n",
       "</div>"
      ],
      "text/plain": [
       "            debut  finalGame         S        2B        3B        HR  \\\n",
       "playerID                                                               \n",
       "abreubo01  1996.0     2012.0 -0.008202  0.006421  0.001002 -0.003252   \n",
       "ackledu01  2011.0     2013.0 -0.009270 -0.016605 -0.001974 -0.015274   \n",
       "adamsru01  2004.0     2009.0 -0.007867 -0.001289  0.004160 -0.017533   \n",
       "alfoned01  1995.0     2006.0  0.013485 -0.002177 -0.003239 -0.006436   \n",
       "alicelu01  1988.0     2002.0  0.035625 -0.009597  0.007988 -0.026156   \n",
       "\n",
       "                 BB         OPW  medianSalary nameFirst nameLast POS  \n",
       "playerID                                                              \n",
       "abreubo01  0.050501  104.050008       9000000     Bobby    Abreu  RF  \n",
       "ackledu01  0.001597   53.806003       2400000    Dustin   Ackley  2B  \n",
       "adamsru01  0.002672   67.496507        329500      Russ    Adams  SS  \n",
       "alfoned01  0.010745   83.404437       4112500   Edgardo  Alfonzo  2B  \n",
       "alicelu01 -0.006580   78.561778        750000      Luis   Alicea  2B  "
      ]
     },
     "execution_count": 50,
     "metadata": {},
     "output_type": "execute_result"
    }
   ],
   "source": [
    "### Your code here ###\n",
    "playerLS_merged.head()"
   ]
  },
  {
   "cell_type": "markdown",
   "metadata": {},
   "source": [
    "#### Problem 1(k)\n",
    "\n",
    "Subset the `playerLS` DataFrame for players active in 2002 and 2003 and played at least three years. Plot and describe the relationship bewteen the median salary (in millions) and the predicted number of wins. "
   ]
  },
  {
   "cell_type": "code",
   "execution_count": 53,
   "metadata": {
    "collapsed": false
   },
   "outputs": [
    {
     "data": {
      "image/png": "[encoded data removed]",
      "text/plain": [
       "<matplotlib.figure.Figure at 0xf340630>"
      ]
     },
     "metadata": {},
     "output_type": "display_data"
    }
   ],
   "source": [
    "### Your code here ###\n",
    "playerLS_sub = playerLS_merged[(playerLS_merged['debut'] <= 2002) \\\n",
    "                             & (playerLS_merged['finalGame'] >= 2003) \\\n",
    "                             & (playerLS_merged['finalGame'] - playerLS_merged['debut'] >= 3)]\n",
    "x = playerLS_sub['medianSalary']/10**6\n",
    "y = playerLS_sub['OPW']\n",
    "fig = plt.figure()\n",
    "ax = fig.gca()\n",
    "ax.scatter(x, y, alpha=0.5, c='red')\n",
    "ax.set_xscale('log')\n",
    "ax.set_xlabel('Salary (in Millions) on log')\n",
    "ax.set_ylabel('OPW')\n",
    "ax.set_title('Relationship between Salary and Predicted Number of Wins')\n",
    "plt.show()"
   ]
  },
  {
   "cell_type": "markdown",
   "metadata": {},
   "source": [
    "There is a general positive correlation between OPW and median salary. However, at low predicted number of wins, the salary is low. As OPW increases, the spread of median salary increases as well."
   ]
  },
  {
   "cell_type": "markdown",
   "metadata": {},
   "source": [
    "#### Problem 1(l)\n",
    "Pick one players from one of each of these 10 position C, 1B, 2B, 3B, SS, LF, CF, RF, DH, or OF keeping the total median salary of all 10 players below 20 million. Report their averaged predicted wins and total salary."
   ]
  },
  {
   "cell_type": "code",
   "execution_count": 55,
   "metadata": {
    "collapsed": false
   },
   "outputs": [
    {
     "name": "stdout",
     "output_type": "stream",
     "text": [
      "            debut  finalGame         S        2B        3B        HR  \\\n",
      "playerID                                                               \n",
      "ausmubr01  1993.0     2010.0  0.005910 -0.005096  0.002949 -0.021278   \n",
      "bordepa01  1988.0     2005.0 -0.016879  0.008572 -0.003931 -0.004039   \n",
      "davisbe01  1998.0     2004.0 -0.015639 -0.012304 -0.005375 -0.014903   \n",
      "estrajo01  2001.0     2008.0  0.033598  0.020508 -0.005112 -0.016330   \n",
      "hernara02  1999.0     2013.0 -0.005088 -0.002797 -0.002739  0.007722   \n",
      "\n",
      "                 BB        OPW  medianSalary nameFirst   nameLast POS  \n",
      "playerID                                                               \n",
      "ausmubr01  0.004427  69.212474       1600000      Brad     Ausmus   C  \n",
      "bordepa01 -0.043964  45.938481        400000       Pat    Borders   C  \n",
      "davisbe01  0.030840  63.935456        350000       Ben      Davis   C  \n",
      "estrajo01 -0.019198  78.944433       1250000    Johnny    Estrada   C  \n",
      "hernara02 -0.023284  68.606937       3200000     Ramon  Hernandez   C  \n",
      "Empty DataFrame\n",
      "Columns: [debut, finalGame, S, 2B, 3B, HR, BB, OPW, medianSalary, nameFirst, nameLast, POS]\n",
      "Index: []\n",
      "            debut  finalGame         S        2B        3B        HR  \\\n",
      "playerID                                                               \n",
      "alfoned01  1995.0     2006.0  0.013485 -0.002177 -0.003239 -0.006436   \n",
      "alomaro01  1988.0     2004.0  0.022145  0.001698  0.002653 -0.009386   \n",
      "anderma02  1998.0     2009.0  0.017909  0.000811  0.001260 -0.019844   \n",
      "baergca01  1990.0     2005.0  0.038873 -0.001666 -0.001974 -0.005930   \n",
      "belliro01  1998.0     2010.0  0.005959  0.008679 -0.000001 -0.015021   \n",
      "\n",
      "                 BB        OPW  medianSalary nameFirst  nameLast POS  \n",
      "playerID                                                              \n",
      "alfoned01  0.010745  83.404437       4112500   Edgardo   Alfonzo  2B  \n",
      "alomaro01  0.004503  90.800847       5466667   Roberto    Alomar  2B  \n",
      "anderma02 -0.026193  61.965795        600000    Marlon  Anderson  2B  \n",
      "baergca01 -0.041313  72.186558       1000000    Carlos    Baerga  2B  \n",
      "belliro01 -0.005611  72.682057        962500    Ronnie  Belliard  2B  \n",
      "            debut  finalGame         S        2B        3B        HR  \\\n",
      "playerID                                                               \n",
      "batisto01  1996.0     2007.0 -0.028387 -0.006336 -0.002935  0.015153   \n",
      "bellda01   1995.0     2006.0 -0.002322 -0.000510 -0.002769 -0.006313   \n",
      "bellhma01  1997.0     2007.0 -0.039044  0.002241  0.001326  0.005377   \n",
      "beltrad01  1998.0     2013.0  0.001037  0.002395 -0.001696  0.008626   \n",
      "blaloha01  2002.0     2010.0 -0.003618 -0.002829 -0.001897  0.004889   \n",
      "\n",
      "                 BB        OPW  medianSalary nameFirst  nameLast POS  \n",
      "playerID                                                              \n",
      "batisto01 -0.046101  49.148831       1250000      Tony   Batista  3B  \n",
      "bellda01  -0.009754  66.084715       1587500     David      Bell  3B  \n",
      "bellhma01  0.046554  91.598047        477500      Mark  Bellhorn  3B  \n",
      "beltrad01 -0.025419  75.170515      10200000    Adrian    Beltre  3B  \n",
      "blaloha01 -0.011571  73.898359       1950000      Hank   Blalock  3B  \n",
      "            debut  finalGame         S        2B        3B        HR  \\\n",
      "playerID                                                               \n",
      "aurilri01  1995.0     2009.0  0.009727 -0.002445 -0.001794 -0.000033   \n",
      "bellja01   1986.0     2003.0 -0.008642 -0.001100  0.003132 -0.005571   \n",
      "berroan01  2001.0     2009.0  0.023027 -0.008391  0.004968 -0.013154   \n",
      "bordimi01  1990.0     2003.0  0.011400 -0.008219 -0.000263 -0.019351   \n",
      "cabreor01  1997.0     2011.0  0.017289  0.007787 -0.002423 -0.018848   \n",
      "\n",
      "                 BB        OPW  medianSalary nameFirst nameLast POS  \n",
      "playerID                                                             \n",
      "aurilri01 -0.026565  69.325973       1300000      Rich  Aurilia  SS  \n",
      "bellja01   0.003961  76.859118       3900000       Jay     Bell  SS  \n",
      "berroan01 -0.054305  55.771514        436250     Angel   Berroa  SS  \n",
      "bordimi01 -0.018100  57.051882       2166666      Mike  Bordick  SS  \n",
      "cabreor01 -0.025319  62.090588       2850000   Orlando  Cabrera  SS  \n",
      "            debut  finalGame         S        2B        3B        HR  \\\n",
      "playerID                                                               \n",
      "burrepa01  2000.0     2011.0 -0.043259 -0.005839 -0.002681  0.014275   \n",
      "crawfca02  2002.0     2013.0  0.031475 -0.007881  0.013460 -0.012297   \n",
      "dunnad01   2001.0     2013.0 -0.060480 -0.009113 -0.003715  0.026018   \n",
      "ibanera01  1996.0     2013.0 -0.003575  0.004460  0.000551  0.003770   \n",
      "leeca01    1999.0     2012.0 -0.000200  0.003572 -0.002732  0.007157   \n",
      "\n",
      "                 BB        OPW  medianSalary nameFirst  nameLast POS  \n",
      "playerID                                                              \n",
      "burrepa01  0.053743  92.208734       7000000       Pat   Burrell  LF  \n",
      "crawfca02 -0.039731  78.290009       5375000      Carl  Crawford  LF  \n",
      "dunnad01   0.066631  97.037863       9250000      Adam      Dunn  LF  \n",
      "ibanera01 -0.008855  80.640663       3458333      Raul    Ibanez  LF  \n",
      "leeca01   -0.024089  73.337283       8250000    Carlos       Lee  LF  \n",
      "            debut  finalGame         S        2B        3B        HR  \\\n",
      "playerID                                                               \n",
      "beltrca01  1998.0     2013.0 -0.008754 -0.002305  0.002545  0.009564   \n",
      "byrdma01   2002.0     2013.0  0.020792  0.011624 -0.000618 -0.010489   \n",
      "camermi01  1995.0     2011.0 -0.038492 -0.001170  0.003131  0.002961   \n",
      "chaveen01  2001.0     2013.0  0.020316 -0.008898  0.005110 -0.024393   \n",
      "crispco01  2002.0     2013.0  0.011294 -0.002053  0.002103 -0.008959   \n",
      "\n",
      "                 BB        OPW  medianSalary nameFirst nameLast POS  \n",
      "playerID                                                             \n",
      "beltrca01  0.007768  90.390672      13000000    Carlos  Beltran  CF  \n",
      "byrdma01  -0.032476  71.277576       2400000    Marlon     Byrd  CF  \n",
      "camermi01  0.018892  76.099981       4666667      Mike  Cameron  CF  \n",
      "chaveen01 -0.037563  53.260985       1612500      Endy   Chavez  CF  \n",
      "crispco01 -0.011445  74.901674       5041666      Coco    Crisp  CF  \n",
      "            debut  finalGame         S        2B        3B        HR  \\\n",
      "playerID                                                               \n",
      "abreubo01  1996.0     2012.0 -0.008202  0.006421  0.001002 -0.003252   \n",
      "allench01  1999.0     2005.0  0.023014 -0.009664  0.000201 -0.016584   \n",
      "bautida01  1993.0     2004.0  0.034345 -0.004310 -0.003369 -0.015130   \n",
      "drewjd01   1998.0     2011.0 -0.026552 -0.000337  0.003063  0.004784   \n",
      "gibboja01  2001.0     2011.0 -0.022243  0.006805 -0.001701  0.012011   \n",
      "\n",
      "                 BB         OPW  medianSalary nameFirst  nameLast POS  \n",
      "playerID                                                               \n",
      "abreubo01  0.050501  104.050008       9000000     Bobby     Abreu  RF  \n",
      "allench01 -0.031390   58.526131        240000      Chad     Allen  RF  \n",
      "bautida01 -0.036067   61.807252        345000     Danny  Bautista  RF  \n",
      "drewjd01   0.054272  102.319792       9400000     J. D.      Drew  RF  \n",
      "gibboja01 -0.024983   68.197714       1625000       Jay   Gibbons  RF  \n",
      "            debut  finalGame         S        2B        3B        HR  \\\n",
      "playerID                                                               \n",
      "catalfr01  1997.0     2010.0  0.030725  0.011372  0.005181 -0.011600   \n",
      "coomero01  1995.0     2003.0  0.025160 -0.002544 -0.002858 -0.008035   \n",
      "francju01  1982.0     2007.0  0.037547 -0.001407  0.000448 -0.010841   \n",
      "hafnetr01  2002.0     2013.0 -0.032127  0.008492 -0.002670  0.022373   \n",
      "harveke01  2001.0     2005.0  0.003628  0.005685 -0.005674 -0.008327   \n",
      "\n",
      "                 BB         OPW  medianSalary nameFirst     nameLast POS  \n",
      "playerID                                                                  \n",
      "catalfr01 -0.023934   86.381140       2250000     Frank  Catalanotto  DH  \n",
      "coomero01 -0.054362   55.113014        537500       Ron       Coomer  DH  \n",
      "francju01 -0.007267   87.605064       1000000     Julio       Franco  DH  \n",
      "hafnetr01  0.055883  112.915062       4050000    Travis       Hafner  DH  \n",
      "harveke01 -0.038365   52.515888        308750       Ken       Harvey  DH  \n",
      "            debut  finalGame         S        2B        3B        HR  \\\n",
      "playerID                                                               \n",
      "aloumo01   1990.0     2008.0  0.004058  0.001022 -0.000406  0.009994   \n",
      "anderga01  1994.0     2010.0  0.019420  0.007049 -0.001203 -0.003036   \n",
      "benarma01  1995.0     2003.0  0.002147 -0.006063  0.002887 -0.017484   \n",
      "bergepe01  1999.0     2004.0 -0.008459 -0.007930  0.006785 -0.027492   \n",
      "bigbila01  2001.0     2006.0  0.015641 -0.007371 -0.003200 -0.005613   \n",
      "\n",
      "                 BB        OPW  medianSalary nameFirst  nameLast POS  \n",
      "playerID                                                              \n",
      "aloumo01   0.000737  92.104556       5135000    Moises      Alou  OF  \n",
      "anderga01 -0.051426  64.354063       3250000    Garret  Anderson  OF  \n",
      "benarma01 -0.003445  65.913299        850000    Marvin    Benard  OF  \n",
      "bergepe01 -0.004383  54.899183        246250     Peter  Bergeron  OF  \n",
      "bigbila01 -0.011001  71.666044        380000     Larry    Bigbie  OF  \n"
     ]
    }
   ],
   "source": [
    "### Your code here ###\n",
    "totalSalary = 0\n",
    "positions = ['C', 'S', '2B', '3B', 'SS', 'LF', 'CF', 'RF', 'DH', 'OF']\n",
    "for position in positions:\n",
    "    pos_df = playerLS_sub[playerLS_sub['POS'] == position]\n",
    "    print pos_df.head()"
   ]
  },
  {
   "cell_type": "markdown",
   "metadata": {},
   "source": [
    "#### Problem 1(m)\n",
    "What do these players outperform in? Singles, doubles, triples HR or BB?"
   ]
  },
  {
   "cell_type": "code",
   "execution_count": 17,
   "metadata": {
    "collapsed": false
   },
   "outputs": [],
   "source": [
    "### Your code here ###"
   ]
  },
  {
   "cell_type": "markdown",
   "metadata": {},
   "source": [
    "** Your answer here: **"
   ]
  },
  {
   "cell_type": "markdown",
   "metadata": {},
   "source": [
    "## Discussion for Problem 1\n",
    "\n",
    "*Write a brief discussion of your conclusions to the questions and tasks above in 100 words or less.*\n",
    "\n",
    "---"
   ]
  },
  {
   "cell_type": "markdown",
   "metadata": {},
   "source": [
    "# Problem 2:  $k$-Nearest Neighbors and Cross Validation \n",
    "\n",
    "What is the optimal $k$ for predicting species using $k$-nearest neighbor classification \n",
    "on the four features provided by the iris dataset.\n",
    "\n",
    "In this problem you will get to know the famous iris data set, and use cross validation to select the optimal $k$ for a $k$-nearest neighbor classification. This problem set makes heavy use of the [sklearn](http://scikit-learn.org/stable/) library. In addition to Pandas, it is one of the most useful libraries for data scientists! After completing this homework assignment you will know all the basics to get started with your own machine learning projects in sklearn. \n",
    "\n",
    "Future lectures will give further background information on different classifiers and their specific strengths and weaknesses, but when you have the basics for sklearn down, changing the classifier will boil down to exchanging one to two lines of code.\n",
    "\n",
    "The data set is so popular, that sklearn provides an extra function to load it:"
   ]
  },
  {
   "cell_type": "code",
   "execution_count": 27,
   "metadata": {
    "collapsed": false
   },
   "outputs": [
    {
     "name": "stdout",
     "output_type": "stream",
     "text": [
      "(150L, 4L) (150L,)\n"
     ]
    }
   ],
   "source": [
    "#load the iris data set\n",
    "iris = sklearn.datasets.load_iris()\n",
    "\n",
    "X = iris.data  \n",
    "Y = iris.target\n",
    "\n",
    "print X.shape, Y.shape"
   ]
  },
  {
   "cell_type": "markdown",
   "metadata": {},
   "source": [
    "#### Problem 2(a) \n",
    "Split the data into a train and a test set. Use a random selection of 33% of the samples as test data. Sklearn provides the [`train_test_split`](http://scikit-learn.org/stable/modules/generated/sklearn.cross_validation.train_test_split.html) function for this purpose. Print the dimensions of all the train and test data sets you have created. "
   ]
  },
  {
   "cell_type": "code",
   "execution_count": 3,
   "metadata": {
    "collapsed": false
   },
   "outputs": [
    {
     "name": "stdout",
     "output_type": "stream",
     "text": [
      "(100L, 4L)\n",
      "(50L, 4L)\n",
      "(100L,)\n",
      "(50L,)\n"
     ]
    }
   ],
   "source": [
    "### Your code here ###\n",
    "X_train, X_test, Y_train, Y_test = sklearn.model_selection.train_test_split(X, Y, test_size = 0.33, random_state = 42)\n",
    "datasets = [X_train, X_test, Y_train, Y_test]\n",
    "for dataset in datasets: \n",
    "    print dataset.shape"
   ]
  },
  {
   "cell_type": "markdown",
   "metadata": {},
   "source": [
    "#### Problem 2(b)\n",
    "\n",
    "Examine the data further by looking at the projections to the first two principal components of the data. Use the [`TruncatedSVD`](http://scikit-learn.org/stable/modules/generated/sklearn.decomposition.TruncatedSVD.html) function for this purpose, and create a scatter plot. Use the colors on the scatter plot to represent the different classes in the target data. "
   ]
  },
  {
   "cell_type": "code",
   "execution_count": 30,
   "metadata": {
    "collapsed": false
   },
   "outputs": [
    {
     "name": "stdout",
     "output_type": "stream",
     "text": [
      "0.99481466717\n"
     ]
    },
    {
     "data": {
      "image/png": "[encoded data removed]",
      "text/plain": [
       "<matplotlib.figure.Figure at 0xd65c940>"
      ]
     },
     "metadata": {},
     "output_type": "display_data"
    }
   ],
   "source": [
    "### Your code here ###\n",
    "svd = sklearn.decomposition.TruncatedSVD(n_components = 3)\n",
    "X_svd = svd.fit_transform(X)\n",
    "print svd.explained_variance_ratio_.sum()\n",
    "df = pd.DataFrame({'y': Y,\n",
    "                   'pc1': X_svd[:, 0],\n",
    "                   'pc2': X_svd[:, 1]})\n",
    "colors = ['r', 'g', 'b']\n",
    "for y, color in zip(df['y'].unique(), colors):\n",
    "    mask = df['y'] == y\n",
    "    plt.scatter(df[mask]['pc1'], df[mask]['pc2'], c = color)"
   ]
  },
  {
   "cell_type": "markdown",
   "metadata": {},
   "source": [
    "#### Problem 2(c) \n",
    "\n",
    "In the lecture we discussed how to use cross validation to estimate the optimal value for $k$ (the number of nearest neighbors to base the classification on). Use ***ten fold cross validation*** to estimate the optimal value for $k$ for the iris data set. \n",
    "\n",
    "**Note**: For your convenience sklearn does not only include the [KNN classifier](http://scikit-learn.org/stable/modules/generated/sklearn.neighbors.KNeighborsClassifier.html), but also a [grid search function](http://scikit-learn.org/stable/modules/generated/sklearn.grid_search.GridSearchCV.html#sklearn.grid_search.GridSearchCV). The function is called grid search, because if you have to optimize more than one parameter, it is common practice to define a range of possible values for each parameter. An exhaustive search then runs over the complete grid defined by all the possible parameter combinations. This can get very computation heavy, but luckily our KNN classifier only requires tuning of a single parameter for this problem set. "
   ]
  },
  {
   "cell_type": "code",
   "execution_count": 21,
   "metadata": {
    "collapsed": false
   },
   "outputs": [],
   "source": [
    "### Your code here ###\n",
    "import sklearn.neighbors.KNeighborsClassifier\n",
    "import sklearn.model_selection.GridSearchCV\n",
    "\n",
    "def cv_optimize(clf, parameters, Xtrain, ytrain, n_folds = 10):\n",
    "    gs = GridSearchCV(clf, param_grid = parameters, cv = n_folds)\n",
    "    gs.fit(Xtrain, ytrain)\n",
    "    print \"Best params\", gs.best_params_\n",
    "    best = gs.best_estimator_\n",
    "    return best\n",
    "\n",
    "\n"
   ]
  },
  {
   "cell_type": "markdown",
   "metadata": {},
   "source": [
    "#### Problem 2(d)\n",
    "\n",
    "Visualize the result by plotting the score results versus values for $k$. "
   ]
  },
  {
   "cell_type": "code",
   "execution_count": 22,
   "metadata": {
    "collapsed": false
   },
   "outputs": [],
   "source": [
    "### Your code here ###"
   ]
  },
  {
   "cell_type": "markdown",
   "metadata": {},
   "source": [
    "Verify that the grid search has indeed chosen the right parameter value for $k$."
   ]
  },
  {
   "cell_type": "code",
   "execution_count": 23,
   "metadata": {
    "collapsed": false
   },
   "outputs": [],
   "source": [
    "### Your code here ###"
   ]
  },
  {
   "cell_type": "markdown",
   "metadata": {},
   "source": [
    "#### Problem 2(e)\n",
    "\n",
    "Test the performance of our tuned KNN classifier on the test set."
   ]
  },
  {
   "cell_type": "code",
   "execution_count": 24,
   "metadata": {
    "collapsed": false
   },
   "outputs": [],
   "source": [
    "### Your code here ###"
   ]
  },
  {
   "cell_type": "markdown",
   "metadata": {},
   "source": [
    "## Discussion for Problem 2\n",
    "\n",
    "*Write a brief discussion of your conclusions to the questions and tasks above in 100 words or less.*\n",
    "\n",
    "---"
   ]
  },
  {
   "cell_type": "markdown",
   "metadata": {},
   "source": [
    "# Problem 3: The Curse and Blessing of Higher Dimensions\n",
    "\n",
    "In this problem we will investigate the influence of higher dimensional spaces on the classification. The data set is again one of the standard data sets from sklearn. The [digits data set](http://scikit-learn.org/stable/modules/generated/sklearn.datasets.load_digits.html) is similar to the MNIST data set discussed in the lecture. The main difference is, that each digit is represented by an 8x8 pixel image patch, which is considerably smaller than the 28x28 pixels from MNIST. In addition, the gray values are restricted to 16 different values (4 bit), instead of 256 (8 bit) for MNIST. \n",
    "\n",
    "First we again load our data set."
   ]
  },
  {
   "cell_type": "code",
   "execution_count": 25,
   "metadata": {
    "collapsed": false
   },
   "outputs": [
    {
     "name": "stdout",
     "output_type": "stream",
     "text": [
      "(1797, 64) (1797,)\n"
     ]
    }
   ],
   "source": [
    "digits = sklearn.datasets.load_digits()\n",
    "\n",
    "X = digits.data  \n",
    "Y = digits.target\n",
    "\n",
    "print X.shape, Y.shape"
   ]
  },
  {
   "cell_type": "markdown",
   "metadata": {},
   "source": [
    "#### Problem 3(a) \n",
    "\n",
    "Start with the same steps as in Problem 2. Split the data into train and test set. Use 33% of the samples as test data. Print the dimensions of all the train and test data sets you created. "
   ]
  },
  {
   "cell_type": "code",
   "execution_count": 26,
   "metadata": {
    "collapsed": false
   },
   "outputs": [],
   "source": [
    "### Your code here ###"
   ]
  },
  {
   "cell_type": "markdown",
   "metadata": {},
   "source": [
    "#### Problem 3(b) \n",
    "\n",
    "Similar to Problem 2(b), create a scatter plot of the projections to the first two PCs.  Use the colors on the scatter plot to represent the different classes in the target data. How well can we separate the classes?\n",
    "\n",
    "**Hint**: Use a `Colormap` in matplotlib to represent the diferent classes in the target data. "
   ]
  },
  {
   "cell_type": "code",
   "execution_count": 27,
   "metadata": {
    "collapsed": false
   },
   "outputs": [],
   "source": [
    "### Your code here ###"
   ]
  },
  {
   "cell_type": "markdown",
   "metadata": {},
   "source": [
    "Create individual scatter plots using only two classes at a time to explore which classes are most difficult to distinguish in terms of class separability.  You do not need to create scatter plots for all pairwise comparisons, but at least show one. "
   ]
  },
  {
   "cell_type": "code",
   "execution_count": 28,
   "metadata": {
    "collapsed": false
   },
   "outputs": [],
   "source": [
    "### Your code here ###"
   ]
  },
  {
   "cell_type": "markdown",
   "metadata": {},
   "source": [
    "Give a brief interpretation of the scatter plot. Which classes look like hard to distinguish? Do both feature dimensions contribute to the class separability? "
   ]
  },
  {
   "cell_type": "markdown",
   "metadata": {},
   "source": [
    "** Your answer here: **"
   ]
  },
  {
   "cell_type": "markdown",
   "metadata": {},
   "source": [
    "#### Problem 3(c) \n",
    "\n",
    "Write a **ten-fold cross validation** to estimate the optimal value for $k$ for the digits data set. *However*, this time we are interested in the influence of the number of dimensions we project the data down as well. \n",
    "\n",
    "Extend the cross validation as done for the iris data set, to optimize $k$ for different dimensional projections of the data. Create a boxplot showing test scores for the optimal $k$ for each $d$-dimensional subspace with $d$ ranging from one to ten. The plot should have the scores on the y-axis and the different dimensions $d$ on the x-axis. You can use your favorite plot function for the boxplots. [Seaborn](http://web.stanford.edu/~mwaskom/software/seaborn/index.html) is worth having a look at though. It is a great library for statistical visualization and of course also comes with a [`boxplot`](http://web.stanford.edu/~mwaskom/software/seaborn/generated/seaborn.boxplot.html) function that has simple means for changing the labels on the x-axis."
   ]
  },
  {
   "cell_type": "code",
   "execution_count": 29,
   "metadata": {
    "collapsed": false
   },
   "outputs": [],
   "source": [
    "### Your cross validation and evaluation code here ###"
   ]
  },
  {
   "cell_type": "code",
   "execution_count": 30,
   "metadata": {
    "collapsed": false
   },
   "outputs": [],
   "source": [
    "### Your boxplot code here ### "
   ]
  },
  {
   "cell_type": "markdown",
   "metadata": {},
   "source": [
    "Write a short interpretation of the generated plot, answering the following questions:\n",
    "\n",
    "* What trend do you see in the plot for increasing dimensions?\n",
    "\n",
    "* Why do you think this is happening?"
   ]
  },
  {
   "cell_type": "markdown",
   "metadata": {},
   "source": [
    "** Your answer here: **"
   ]
  },
  {
   "cell_type": "markdown",
   "metadata": {},
   "source": [
    "#### Problem 3(d) \n",
    "\n",
    "**For AC209 Students**: Change the boxplot we generated above to also show the optimal value for $k$ chosen by the cross validation grid search. "
   ]
  },
  {
   "cell_type": "code",
   "execution_count": 31,
   "metadata": {
    "collapsed": false
   },
   "outputs": [],
   "source": [
    "### Your code here ### "
   ]
  },
  {
   "cell_type": "markdown",
   "metadata": {},
   "source": [
    "Write a short interpretation answering the following questions:\n",
    "\n",
    "* Which trend do you observe for the optimal value of $k$?\n",
    "\n",
    "* Why do you think this is happening?"
   ]
  },
  {
   "cell_type": "markdown",
   "metadata": {},
   "source": [
    "** Your answer here: **"
   ]
  },
  {
   "cell_type": "markdown",
   "metadata": {},
   "source": [
    "## Discussion for Problem 3\n",
    "\n",
    "*Write a brief discussion of your conclusions to the questions and tasks above in 100 words or less.*\n",
    "\n",
    "---"
   ]
  },
  {
   "cell_type": "markdown",
   "metadata": {},
   "source": [
    "# Submission Instructions\n",
    "\n",
    "To submit your homework, create a folder named **lastname_firstinitial_hw#** and place your IPython notebooks, data files, and any other files in this folder. Your IPython Notebooks should be completely executed with the results visible in the notebook. We should not have to run any code.  Compress the folder (please use .zip compression) and submit to the CS109 dropbox in the appropriate folder. *If we cannot access your work because these directions are not followed correctly, we will not grade your work.*\n"
   ]
  },
  {
   "cell_type": "code",
   "execution_count": 31,
   "metadata": {
    "collapsed": false
   },
   "outputs": [],
   "source": []
  }
 ],
 "metadata": {
  "anaconda-cloud": {},
  "kernelspec": {
   "display_name": "Python [default]",
   "language": "python",
   "name": "python2"
  },
  "language_info": {
   "codemirror_mode": {
    "name": "ipython",
    "version": 2
   },
   "file_extension": ".py",
   "mimetype": "text/x-python",
   "name": "python",
   "nbconvert_exporter": "python",
   "pygments_lexer": "ipython2",
   "version": "2.7.12"
  }
 },
 "nbformat": 4,
 "nbformat_minor": 0
}
